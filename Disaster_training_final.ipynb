{
  "nbformat": 4,
  "nbformat_minor": 0,
  "metadata": {
    "colab": {
      "provenance": [],
      "gpuType": "T4",
      "authorship_tag": "ABX9TyP3g9TSVPLGZ/vSc3ii15bX",
      "include_colab_link": true
    },
    "kernelspec": {
      "name": "python3",
      "display_name": "Python 3"
    },
    "language_info": {
      "name": "python"
    },
    "accelerator": "GPU"
  },
  "cells": [
    {
      "cell_type": "markdown",
      "metadata": {
        "id": "view-in-github",
        "colab_type": "text"
      },
      "source": [
        "<a href=\"https://colab.research.google.com/github/shishiraiyar/disastometer/blob/main/Disaster_training_final.ipynb\" target=\"_parent\"><img src=\"https://colab.research.google.com/assets/colab-badge.svg\" alt=\"Open In Colab\"/></a>"
      ]
    },
    {
      "cell_type": "code",
      "source": [
        "import tensorflow as tf\n",
        "import numpy as np\n",
        "import PIL\n",
        "\n",
        "from tensorflow import keras\n",
        "from tensorflow.keras import layers\n",
        "from tensorflow.keras.models import Sequential\n",
        "\n",
        "from PIL import ImageFile\n",
        "ImageFile.LOAD_TRUNCATED_IMAGES = True"
      ],
      "metadata": {
        "id": "HELGfpryaAZc"
      },
      "execution_count": null,
      "outputs": []
    },
    {
      "cell_type": "code",
      "source": [
        "!git clone https://github.com/tariqshaban/disaster-classification-with-xai.git\n",
        "!mkdir assets\n",
        "!cp -r ./disaster-classification-with-xai/assets/disaster_data ./assets/disaster_data\n",
        "!rm -rf disaster-classification-with-xai/"
      ],
      "metadata": {
        "colab": {
          "base_uri": "https://localhost:8080/"
        },
        "id": "OM_470G0aCA_",
        "outputId": "27728419-0abf-4135-c0ff-19ee2d738de1"
      },
      "execution_count": null,
      "outputs": [
        {
          "output_type": "stream",
          "name": "stdout",
          "text": [
            "Cloning into 'disaster-classification-with-xai'...\n",
            "remote: Enumerating objects: 13478, done.\u001b[K\n",
            "remote: Counting objects: 100% (3497/3497), done.\u001b[K\n",
            "remote: Compressing objects: 100% (3493/3493), done.\u001b[K\n",
            "remote: Total 13478 (delta 6), reused 3491 (delta 4), pack-reused 9981\u001b[K\n",
            "Receiving objects: 100% (13478/13478), 658.45 MiB | 33.19 MiB/s, done.\n",
            "Resolving deltas: 100% (9/9), done.\n",
            "Updating files: 100% (13570/13570), done.\n"
          ]
        }
      ]
    },
    {
      "cell_type": "code",
      "source": [
        "batch_size = 32\n",
        "img_height = 180\n",
        "img_width = 180"
      ],
      "metadata": {
        "id": "h8_fY2TfkoK2"
      },
      "execution_count": null,
      "outputs": []
    },
    {
      "cell_type": "code",
      "source": [
        "from tensorflow.keras.preprocessing.image import ImageDataGenerator\n",
        "imgDataGen = ImageDataGenerator(validation_split=0.2)\n",
        "train_ds = imgDataGen.flow_from_directory(directory=\"./assets/disaster_data\",\n",
        "                                            target_size=(img_height, img_width),\n",
        "                                            batch_size=batch_size,\n",
        "                                            seed=123,\n",
        "                                            subset=\"training\",\n",
        "                                            class_mode='sparse')\n",
        "\n",
        "val_ds =   imgDataGen.flow_from_directory(directory=\"./assets/disaster_data\",\n",
        "                                            target_size=(img_height, img_width),\n",
        "                                            batch_size=batch_size,\n",
        "                                            seed=123,\n",
        "                                            subset=\"validation\",\n",
        "                                            class_mode='sparse')\n"
      ],
      "metadata": {
        "colab": {
          "base_uri": "https://localhost:8080/"
        },
        "id": "yCNY_MKPKkUu",
        "outputId": "44126a4c-9605-4904-a3cf-63b8d78753d1"
      },
      "execution_count": null,
      "outputs": [
        {
          "output_type": "stream",
          "name": "stdout",
          "text": [
            "Found 10849 images belonging to 12 classes.\n",
            "Found 2707 images belonging to 12 classes.\n"
          ]
        }
      ]
    },
    {
      "cell_type": "code",
      "source": [
        "class_indices = train_ds.class_indices"
      ],
      "metadata": {
        "id": "G63DF5MimuHV"
      },
      "execution_count": null,
      "outputs": []
    },
    {
      "cell_type": "code",
      "source": [
        "for image_batch, labels_batch in train_ds:\n",
        "  print(image_batch.shape)\n",
        "  print(labels_batch.shape)\n",
        "  break"
      ],
      "metadata": {
        "colab": {
          "base_uri": "https://localhost:8080/"
        },
        "id": "7hGWDi42nDXk",
        "outputId": "e19284aa-855b-420a-b6ef-855868f153a1"
      },
      "execution_count": null,
      "outputs": [
        {
          "output_type": "stream",
          "name": "stdout",
          "text": [
            "(32, 180, 180, 3)\n",
            "(32,)\n"
          ]
        }
      ]
    },
    {
      "cell_type": "code",
      "source": [
        "from tensorflow.keras.applications.resnet50 import ResNet50\n",
        "from tensorflow.keras import Sequential\n",
        "from tensorflow.keras.layers import Layer\n",
        "from tensorflow.keras.layers import GlobalAveragePooling2D\n",
        "from tensorflow.keras.layers import Dropout\n",
        "from tensorflow.keras.layers import Dense\n",
        "from tensorflow.keras.layers import Lambda\n",
        "\n",
        "from tensorflow.keras.applications.resnet50 import preprocess_input"
      ],
      "metadata": {
        "id": "BTJSGvD7rVVm"
      },
      "execution_count": null,
      "outputs": []
    },
    {
      "cell_type": "code",
      "source": [
        "preprocessing_layer = Lambda(preprocess_input, input_shape=(180, 180, 3))"
      ],
      "metadata": {
        "id": "1pSdSxRkwnow"
      },
      "execution_count": null,
      "outputs": []
    },
    {
      "cell_type": "code",
      "source": [
        "baseModel = ResNet50(weights='imagenet', include_top=False)\n",
        "baseModel.trainable = False"
      ],
      "metadata": {
        "colab": {
          "base_uri": "https://localhost:8080/"
        },
        "id": "HNCx-T2SrYT6",
        "outputId": "4ac14ddf-c97f-4af5-e5b6-a12b322533b9"
      },
      "execution_count": null,
      "outputs": [
        {
          "output_type": "stream",
          "name": "stdout",
          "text": [
            "Downloading data from https://storage.googleapis.com/tensorflow/keras-applications/resnet/resnet50_weights_tf_dim_ordering_tf_kernels_notop.h5\n",
            "94765736/94765736 [==============================] - 0s 0us/step\n"
          ]
        }
      ]
    },
    {
      "cell_type": "code",
      "source": [
        "model = Sequential(\n",
        "    [   preprocessing_layer,\n",
        "        baseModel,\n",
        "        Layer(),\n",
        "        GlobalAveragePooling2D(),\n",
        "        Dropout(0.5),\n",
        "        Dense(len(class_indices), activation='softmax')\n",
        "    ]\n",
        ")\n"
      ],
      "metadata": {
        "id": "6RlTiPzcsSIa"
      },
      "execution_count": null,
      "outputs": []
    },
    {
      "cell_type": "code",
      "source": [
        "model.compile(optimizer='adam', loss='sparse_categorical_crossentropy', metrics=['accuracy'])\n",
        "model.summary()"
      ],
      "metadata": {
        "colab": {
          "base_uri": "https://localhost:8080/"
        },
        "id": "WYYhUacVsoe6",
        "outputId": "1a98d9ca-4c57-4c8e-818b-16e14ebf595b"
      },
      "execution_count": null,
      "outputs": [
        {
          "output_type": "stream",
          "name": "stdout",
          "text": [
            "Model: \"sequential\"\n",
            "_________________________________________________________________\n",
            " Layer (type)                Output Shape              Param #   \n",
            "=================================================================\n",
            " lambda (Lambda)             (None, 180, 180, 3)       0         \n",
            "                                                                 \n",
            " resnet50 (Functional)       (None, None, None, 2048   23587712  \n",
            "                             )                                   \n",
            "                                                                 \n",
            " layer (Layer)               (None, 6, 6, 2048)        0         \n",
            "                                                                 \n",
            " global_average_pooling2d (  (None, 2048)              0         \n",
            " GlobalAveragePooling2D)                                         \n",
            "                                                                 \n",
            " dropout (Dropout)           (None, 2048)              0         \n",
            "                                                                 \n",
            " dense (Dense)               (None, 12)                24588     \n",
            "                                                                 \n",
            "=================================================================\n",
            "Total params: 23612300 (90.07 MB)\n",
            "Trainable params: 24588 (96.05 KB)\n",
            "Non-trainable params: 23587712 (89.98 MB)\n",
            "_________________________________________________________________\n"
          ]
        }
      ]
    },
    {
      "cell_type": "code",
      "source": [
        "from tensorflow.keras.callbacks import EarlyStopping\n",
        "es = EarlyStopping(monitor='val_loss', verbose=1, patience=4)\n",
        "# Decrease patience"
      ],
      "metadata": {
        "id": "Gw5gkJQ-tUM2"
      },
      "execution_count": null,
      "outputs": []
    },
    {
      "cell_type": "code",
      "source": [
        "train_history = model.fit(x=train_ds, validation_data=val_ds, epochs=10, callbacks=[es])"
      ],
      "metadata": {
        "colab": {
          "base_uri": "https://localhost:8080/"
        },
        "id": "tmaVMiDWtiUD",
        "outputId": "6b89e10c-5e94-45ed-db01-616e324cadcd"
      },
      "execution_count": null,
      "outputs": [
        {
          "output_type": "stream",
          "name": "stdout",
          "text": [
            "Epoch 1/10\n",
            "340/340 [==============================] - 78s 205ms/step - loss: 0.6680 - accuracy: 0.8130 - val_loss: 0.2938 - val_accuracy: 0.9143\n",
            "Epoch 2/10\n",
            "340/340 [==============================] - 53s 154ms/step - loss: 0.3414 - accuracy: 0.8938 - val_loss: 0.2565 - val_accuracy: 0.9261\n",
            "Epoch 3/10\n",
            "340/340 [==============================] - 50s 146ms/step - loss: 0.2932 - accuracy: 0.9086 - val_loss: 0.2586 - val_accuracy: 0.9239\n",
            "Epoch 4/10\n",
            "340/340 [==============================] - 52s 153ms/step - loss: 0.2748 - accuracy: 0.9141 - val_loss: 0.2749 - val_accuracy: 0.9209\n",
            "Epoch 5/10\n",
            "340/340 [==============================] - 52s 152ms/step - loss: 0.2568 - accuracy: 0.9134 - val_loss: 0.2660 - val_accuracy: 0.9213\n",
            "Epoch 6/10\n",
            "340/340 [==============================] - 54s 158ms/step - loss: 0.2313 - accuracy: 0.9249 - val_loss: 0.2758 - val_accuracy: 0.9221\n",
            "Epoch 6: early stopping\n"
          ]
        }
      ]
    },
    {
      "cell_type": "code",
      "source": [
        "train_history.history"
      ],
      "metadata": {
        "colab": {
          "base_uri": "https://localhost:8080/"
        },
        "id": "5asugrFVdoRz",
        "outputId": "c2e7b546-a063-402f-88bc-453f169f5166"
      },
      "execution_count": null,
      "outputs": [
        {
          "output_type": "execute_result",
          "data": {
            "text/plain": [
              "{'loss': [0.6680041551589966,\n",
              "  0.341397762298584,\n",
              "  0.29316940903663635,\n",
              "  0.27481842041015625,\n",
              "  0.25684410333633423,\n",
              "  0.2313060313463211],\n",
              " 'accuracy': [0.8129781484603882,\n",
              "  0.8938151001930237,\n",
              "  0.9085630178451538,\n",
              "  0.9140934944152832,\n",
              "  0.9134482145309448,\n",
              "  0.9248778820037842],\n",
              " 'val_loss': [0.2938386797904968,\n",
              "  0.2565203309059143,\n",
              "  0.2586478590965271,\n",
              "  0.2748575210571289,\n",
              "  0.26600366830825806,\n",
              "  0.2757797837257385],\n",
              " 'val_accuracy': [0.9142962694168091,\n",
              "  0.926117479801178,\n",
              "  0.9239010214805603,\n",
              "  0.9209457039833069,\n",
              "  0.9213151335716248,\n",
              "  0.9220539331436157]}"
            ]
          },
          "metadata": {},
          "execution_count": 14
        }
      ]
    },
    {
      "cell_type": "code",
      "source": [
        "import matplotlib.pyplot as plt\n",
        "\n",
        "plt.plot(train_history.history['accuracy'])\n",
        "plt.plot(train_history.history['val_accuracy'])\n",
        "plt.title('Model accuracy')\n",
        "plt.ylabel('Accuracy')\n",
        "plt.xlabel('Epoch')\n",
        "plt.legend(['Train', 'Test'], loc='upper left')\n",
        "plt.show()\n",
        "\n",
        "plt.plot(train_history.history['loss'])\n",
        "plt.plot(train_history.history['val_loss'])\n",
        "plt.title('Model loss')\n",
        "plt.ylabel('Loss')\n",
        "plt.xlabel('Epoch')\n",
        "plt.legend(['Train', 'Test'], loc='upper left')\n",
        "plt.show()"
      ],
      "metadata": {
        "colab": {
          "base_uri": "https://localhost:8080/",
          "height": 927
        },
        "id": "D258YxWadpGe",
        "outputId": "a22f19f6-0876-4ec5-94f0-eaea5a72765f"
      },
      "execution_count": null,
      "outputs": [
        {
          "output_type": "display_data",
          "data": {
            "text/plain": [
              "<Figure size 640x480 with 1 Axes>"
            ],
            "image/png": "[encoded data removed]"
          },
          "metadata": {}
        },
        {
          "output_type": "display_data",
          "data": {
            "text/plain": [
              "<Figure size 640x480 with 1 Axes>"
            ],
            "image/png": "[encoded data removed]"
          },
          "metadata": {}
        }
      ]
    },
    {
      "cell_type": "code",
      "source": [
        "model.save(\"./model.keras\")"
      ],
      "metadata": {
        "id": "JtAEAKbvQOVA"
      },
      "execution_count": null,
      "outputs": []
    },
    {
      "cell_type": "code",
      "source": [
        "from google.colab import drive\n",
        "drive.mount('/content/drive')\n",
        "# !mkdir /content/drive/MyDrive/models"
      ],
      "metadata": {
        "colab": {
          "base_uri": "https://localhost:8080/"
        },
        "id": "x-zkk3etQ_jV",
        "outputId": "6913f393-953f-4edd-8385-d52193c67dac"
      },
      "execution_count": null,
      "outputs": [
        {
          "output_type": "stream",
          "name": "stdout",
          "text": [
            "Mounted at /content/drive\n"
          ]
        }
      ]
    },
    {
      "cell_type": "code",
      "source": [
        "!mkdir /content/drive/MyDrive/models/disaster"
      ],
      "metadata": {
        "id": "pJRzuFyadB4h"
      },
      "execution_count": null,
      "outputs": []
    },
    {
      "cell_type": "code",
      "source": [
        "model.save(\"/content/drive/MyDrive/models/disaster/model.keras\")"
      ],
      "metadata": {
        "id": "Ka6yPSebSC9w"
      },
      "execution_count": null,
      "outputs": []
    },
    {
      "cell_type": "code",
      "source": [
        "classNames = [None for _ in range(len(class_indices))]\n",
        "for (key, value) in class_indices.items():\n",
        "  classNames[value] = key\n",
        "classNames"
      ],
      "metadata": {
        "colab": {
          "base_uri": "https://localhost:8080/"
        },
        "id": "5pvlGc_6cUJ7",
        "outputId": "6693957c-faf8-4c43-bf01-d5e10bbd4f0f"
      },
      "execution_count": null,
      "outputs": [
        {
          "output_type": "execute_result",
          "data": {
            "text/plain": [
              "['drought',\n",
              " 'earthquake',\n",
              " 'human_damage',\n",
              " 'infrastructure',\n",
              " 'land_slide',\n",
              " 'non_damage_buildings_street',\n",
              " 'non_damage_human',\n",
              " 'non_damage_sea',\n",
              " 'non_damage_wildlife_forest',\n",
              " 'urban_fire',\n",
              " 'water_disaster',\n",
              " 'wild_fire']"
            ]
          },
          "metadata": {},
          "execution_count": 20
        }
      ]
    },
    {
      "cell_type": "code",
      "source": [
        "opStr = \"\"\n",
        "for c in classNames:\n",
        "    opStr += c + \"\\n\"\n",
        "opStr = opStr.strip()\n",
        "\n",
        "with open(\"/content/drive/MyDrive/models/disaster/classes.txt\", \"w\") as file:\n",
        "    file.write(opStr)"
      ],
      "metadata": {
        "id": "whAWd7Crc7sJ"
      },
      "execution_count": null,
      "outputs": []
    }
  ]
}