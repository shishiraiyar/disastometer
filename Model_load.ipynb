{
  "nbformat": 4,
  "nbformat_minor": 0,
  "metadata": {
    "colab": {
      "provenance": [],
      "authorship_tag": "ABX9TyNHPWEYBrwgf3YIpkTcSazK",
      "include_colab_link": true
    },
    "kernelspec": {
      "name": "python3",
      "display_name": "Python 3"
    },
    "language_info": {
      "name": "python"
    }
  },
  "cells": [
    {
      "cell_type": "markdown",
      "metadata": {
        "id": "view-in-github",
        "colab_type": "text"
      },
      "source": [
        "<a href=\"https://colab.research.google.com/github/shishiraiyar/disastometer/blob/main/Model_load.ipynb\" target=\"_parent\"><img src=\"https://colab.research.google.com/assets/colab-badge.svg\" alt=\"Open In Colab\"/></a>"
      ]
    },
    {
      "cell_type": "code",
      "execution_count": null,
      "metadata": {
        "id": "4EwxWELwRwJ-"
      },
      "outputs": [],
      "source": [
        "import tensorflow as tf\n",
        "from tensorflow.keras.saving import load_model"
      ]
    },
    {
      "cell_type": "code",
      "source": [
        "from google.colab import drive\n",
        "drive.mount('/content/drive')"
      ],
      "metadata": {
        "colab": {
          "base_uri": "https://localhost:8080/"
        },
        "id": "K0qLFd-AR8Uh",
        "outputId": "448d99af-8da2-4b1c-d8d0-d5d4a48362a7"
      },
      "execution_count": null,
      "outputs": [
        {
          "output_type": "stream",
          "name": "stdout",
          "text": [
            "Mounted at /content/drive\n"
          ]
        }
      ]
    },
    {
      "cell_type": "code",
      "source": [
        "MODEL_PATH = \"/content/drive/MyDrive/models/disaster/model.keras\"\n",
        "CLASS_PATH = \"/content/drive/MyDrive/models/disaster/classes.txt\""
      ],
      "metadata": {
        "id": "rvFqNUNUhEOu"
      },
      "execution_count": null,
      "outputs": []
    },
    {
      "cell_type": "code",
      "source": [
        "model = load_model(MODEL_PATH, safe_mode=False)"
      ],
      "metadata": {
        "id": "a9P2qqalSA-7"
      },
      "execution_count": null,
      "outputs": []
    },
    {
      "cell_type": "code",
      "source": [
        "classList = []\n",
        "with open(CLASS_PATH) as file:\n",
        "  for item in file:\n",
        "    classList.append(item)"
      ],
      "metadata": {
        "id": "djX3KV5Ohv8y"
      },
      "execution_count": null,
      "outputs": []
    },
    {
      "cell_type": "code",
      "source": [
        "from PIL import Image\n",
        "import numpy as np"
      ],
      "metadata": {
        "id": "KCYATfa9UCpD"
      },
      "execution_count": null,
      "outputs": []
    },
    {
      "cell_type": "code",
      "source": [
        "def getPrediction(filename):\n",
        "  img = Image.open(filename)\n",
        "  img = img.resize((180, 180))\n",
        "  img = np.expand_dims(img, axis=0)\n",
        "  idk = np.vstack([img])[0]\n",
        "\n",
        "  lol = np.expand_dims(idk, axis=0)\n",
        "  tensor = tf.convert_to_tensor(lol, dtype=tf.float32)\n",
        "\n",
        "  pred = model.predict(tensor)\n",
        "\n",
        "  return pred"
      ],
      "metadata": {
        "id": "dfX9LGM7Tre2"
      },
      "execution_count": null,
      "outputs": []
    },
    {
      "cell_type": "code",
      "source": [
        "def getClassLabel(pred):\n",
        "  pred = list(pred[0])\n",
        "  index = pred.index(max(pred))\n",
        "  return classList[index], max(pred)"
      ],
      "metadata": {
        "id": "dN9GNaccVX7j"
      },
      "execution_count": null,
      "outputs": []
    },
    {
      "cell_type": "code",
      "source": [
        "pred = getPrediction(\"download.jpg\")\n",
        "getClassLabel(pred)"
      ],
      "metadata": {
        "colab": {
          "base_uri": "https://localhost:8080/"
        },
        "id": "k_P8YOgpXUy_",
        "outputId": "53309ed6-d85a-4a76-8158-ef31f79a2693"
      },
      "execution_count": null,
      "outputs": [
        {
          "output_type": "stream",
          "name": "stdout",
          "text": [
            "1/1 [==============================] - 0s 130ms/step\n"
          ]
        },
        {
          "output_type": "execute_result",
          "data": {
            "text/plain": [
              "('urban_fire\\n', 0.9962036)"
            ]
          },
          "metadata": {},
          "execution_count": 16
        }
      ]
    }
  ]
}